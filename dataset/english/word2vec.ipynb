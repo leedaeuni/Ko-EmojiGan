{
 "cells": [
  {
   "cell_type": "code",
   "execution_count": 62,
   "metadata": {},
   "outputs": [],
   "source": [
    "import pandas as pd\n",
    "import numpy as np"
   ]
  },
  {
   "cell_type": "code",
   "execution_count": 23,
   "metadata": {
    "collapsed": true,
    "jupyter": {
     "outputs_hidden": true
    }
   },
   "outputs": [
    {
     "name": "stderr",
     "output_type": "stream",
     "text": [
      "b'Skipping line 238: expected 2 fields, saw 3\\nSkipping line 239: expected 2 fields, saw 3\\nSkipping line 241: expected 2 fields, saw 3\\nSkipping line 242: expected 2 fields, saw 3\\nSkipping line 244: expected 2 fields, saw 4\\nSkipping line 245: expected 2 fields, saw 4\\nSkipping line 246: expected 2 fields, saw 5\\nSkipping line 247: expected 2 fields, saw 5\\nSkipping line 248: expected 2 fields, saw 5\\nSkipping line 249: expected 2 fields, saw 4\\nSkipping line 250: expected 2 fields, saw 4\\nSkipping line 251: expected 2 fields, saw 5\\nSkipping line 252: expected 2 fields, saw 5\\nSkipping line 253: expected 2 fields, saw 5\\nSkipping line 254: expected 2 fields, saw 4\\nSkipping line 255: expected 2 fields, saw 4\\nSkipping line 256: expected 2 fields, saw 5\\nSkipping line 257: expected 2 fields, saw 5\\nSkipping line 258: expected 2 fields, saw 5\\nSkipping line 259: expected 2 fields, saw 3\\nSkipping line 260: expected 2 fields, saw 4\\nSkipping line 261: expected 2 fields, saw 3\\nSkipping line 262: expected 2 fields, saw 4\\nSkipping line 263: expected 2 fields, saw 4\\nSkipping line 264: expected 2 fields, saw 3\\nSkipping line 265: expected 2 fields, saw 4\\nSkipping line 266: expected 2 fields, saw 3\\nSkipping line 267: expected 2 fields, saw 4\\nSkipping line 268: expected 2 fields, saw 4\\n'\n"
     ]
    }
   ],
   "source": [
    "df = pd.read_csv('emojis.csv', encoding='utf-8',error_bad_lines=False,header=None)\n",
    "df.columns = ['emoji','text']"
   ]
  },
  {
   "cell_type": "markdown",
   "metadata": {},
   "source": [
    "# 학습"
   ]
  },
  {
   "cell_type": "markdown",
   "metadata": {},
   "source": [
    "1. 그냥 자기들끼리 학습 word2vec => 평균 (300,)\n",
    "2. 그냥 자기들끼리 학습 doc2vec => 평균(300,)\n",
    "3. bert uncased pretrained 모델 사용 => (768,)\n",
    "4. w2v finetuned => 사전에 없는 단어 있어서 실패! "
   ]
  },
  {
   "cell_type": "code",
   "execution_count": 29,
   "metadata": {},
   "outputs": [],
   "source": [
    "df['text_pre'] = df.text.str.lower()\n",
    "df['text_pre'] = df['text_pre'].str.replace(pat='\"', repl='', regex=False)\n",
    "df"
   ]
  },
  {
   "cell_type": "code",
   "execution_count": 35,
   "metadata": {},
   "outputs": [
    {
     "data": {
      "text/plain": [
       "1511"
      ]
     },
     "execution_count": 35,
     "metadata": {},
     "output_type": "execute_result"
    }
   ],
   "source": [
    "# 학습시킬 text\n",
    "result = [[word for word in sen.split()] for sen in df.text_pre]\n",
    "len(result)"
   ]
  },
  {
   "cell_type": "code",
   "execution_count": 72,
   "metadata": {},
   "outputs": [
    {
     "data": {
      "text/plain": [
       "(1476, 300)"
      ]
     },
     "execution_count": 72,
     "metadata": {},
     "output_type": "execute_result"
    }
   ],
   "source": [
    "# 1. 그냥 자기들끼리 학습 word2vec => 평균\n",
    "from gensim.models import Word2Vec\n",
    "w2v_model = Word2Vec(sentences=result, size=300, window=5, min_count=1, workers=4, sg=1) # 학습한 거 기억해~\n",
    "w2v_model.wv.vectors.shape"
   ]
  },
  {
   "cell_type": "code",
   "execution_count": null,
   "metadata": {},
   "outputs": [],
   "source": [
    "# 2. 그냥 자기들끼리 학습 doc2vec => 평균\n",
    "from gensim.test.utils import common_texts\n",
    "from gensim.models.doc2vec import Doc2Vec, TaggedDocument\n",
    "\n",
    "documents = [TaggedDocument(doc, [i]) for i, doc in enumerate(result)]\n",
    "d2v_model = Doc2Vec(documents, vector_size=300, window=5, min_count=1, workers=4)\n",
    "d2v_model.wv.vectors.shape"
   ]
  },
  {
   "cell_type": "code",
   "execution_count": 60,
   "metadata": {},
   "outputs": [],
   "source": [
    "# np.mean(model.wv[['grinning', 'face']], axis=0).shape : (300,)\n",
    "def cal_embed(text,model):\n",
    "    return np.mean(model.wv[text.split()], axis=0)"
   ]
  },
  {
   "cell_type": "code",
   "execution_count": 79,
   "metadata": {},
   "outputs": [
    {
     "data": {
      "text/html": [
       "<div>\n",
       "<style scoped>\n",
       "    .dataframe tbody tr th:only-of-type {\n",
       "        vertical-align: middle;\n",
       "    }\n",
       "\n",
       "    .dataframe tbody tr th {\n",
       "        vertical-align: top;\n",
       "    }\n",
       "\n",
       "    .dataframe thead th {\n",
       "        text-align: right;\n",
       "    }\n",
       "</style>\n",
       "<table border=\"1\" class=\"dataframe\">\n",
       "  <thead>\n",
       "    <tr style=\"text-align: right;\">\n",
       "      <th></th>\n",
       "      <th>emoji</th>\n",
       "      <th>text</th>\n",
       "      <th>text_pre</th>\n",
       "      <th>w2v_self</th>\n",
       "      <th>d2v_self</th>\n",
       "    </tr>\n",
       "  </thead>\n",
       "  <tbody>\n",
       "    <tr>\n",
       "      <th>0</th>\n",
       "      <td>😀</td>\n",
       "      <td>\"Grinning Face\"</td>\n",
       "      <td>grinning face</td>\n",
       "      <td>[-0.00094045, -0.0006872087, -6.5182445e-05, 0...</td>\n",
       "      <td>[-0.0009106955, -0.00066791294, -5.793549e-05,...</td>\n",
       "    </tr>\n",
       "    <tr>\n",
       "      <th>1</th>\n",
       "      <td>😁</td>\n",
       "      <td>\"Beaming Face With Smiling Eyes\"</td>\n",
       "      <td>beaming face with smiling eyes</td>\n",
       "      <td>[-0.0006431065, 9.477781e-05, 0.00034368213, -...</td>\n",
       "      <td>[-0.0005997297, 0.0001040432, 0.00033933454, -...</td>\n",
       "    </tr>\n",
       "    <tr>\n",
       "      <th>2</th>\n",
       "      <td>😂</td>\n",
       "      <td>\"Face With Tears of Joy\"</td>\n",
       "      <td>face with tears of joy</td>\n",
       "      <td>[0.00019971476, -0.0004615941, -0.00011864512,...</td>\n",
       "      <td>[0.00023946613, -0.00043663365, -0.00010684356...</td>\n",
       "    </tr>\n",
       "    <tr>\n",
       "      <th>3</th>\n",
       "      <td>🤣</td>\n",
       "      <td>\"Rolling on the Floor Laughing\"</td>\n",
       "      <td>rolling on the floor laughing</td>\n",
       "      <td>[0.00030254797, -0.00021019144, -0.00015853446...</td>\n",
       "      <td>[0.0003178202, -0.00019955196, -0.00015189362,...</td>\n",
       "    </tr>\n",
       "    <tr>\n",
       "      <th>4</th>\n",
       "      <td>😃</td>\n",
       "      <td>\"Grinning Face With Big Eyes\"</td>\n",
       "      <td>grinning face with big eyes</td>\n",
       "      <td>[-0.0003975432, -0.0003180963, 0.00035707135, ...</td>\n",
       "      <td>[-0.00035680766, -0.000299274, 0.00035843992, ...</td>\n",
       "    </tr>\n",
       "  </tbody>\n",
       "</table>\n",
       "</div>"
      ],
      "text/plain": [
       "  emoji                               text                         text_pre  \\\n",
       "0     😀                    \"Grinning Face\"                    grinning face   \n",
       "1     😁   \"Beaming Face With Smiling Eyes\"   beaming face with smiling eyes   \n",
       "2     😂           \"Face With Tears of Joy\"           face with tears of joy   \n",
       "3     🤣    \"Rolling on the Floor Laughing\"    rolling on the floor laughing   \n",
       "4     😃      \"Grinning Face With Big Eyes\"      grinning face with big eyes   \n",
       "\n",
       "                                            w2v_self  \\\n",
       "0  [-0.00094045, -0.0006872087, -6.5182445e-05, 0...   \n",
       "1  [-0.0006431065, 9.477781e-05, 0.00034368213, -...   \n",
       "2  [0.00019971476, -0.0004615941, -0.00011864512,...   \n",
       "3  [0.00030254797, -0.00021019144, -0.00015853446...   \n",
       "4  [-0.0003975432, -0.0003180963, 0.00035707135, ...   \n",
       "\n",
       "                                            d2v_self  \n",
       "0  [-0.0009106955, -0.00066791294, -5.793549e-05,...  \n",
       "1  [-0.0005997297, 0.0001040432, 0.00033933454, -...  \n",
       "2  [0.00023946613, -0.00043663365, -0.00010684356...  \n",
       "3  [0.0003178202, -0.00019955196, -0.00015189362,...  \n",
       "4  [-0.00035680766, -0.000299274, 0.00035843992, ...  "
      ]
     },
     "execution_count": 79,
     "metadata": {},
     "output_type": "execute_result"
    }
   ],
   "source": [
    "df['w2v_self'] = df.text_pre.apply(lambda x: cal_embed(x,w2v_model))\n",
    "df['d2v_self'] = df.text_pre.apply(lambda x: cal_embed(x,d2v_model))\n",
    "df.head()"
   ]
  },
  {
   "cell_type": "raw",
   "metadata": {},
   "source": [
    "import gensim.downloader\n",
    "\n",
    "print(list(gensim.downloader.info()['models'].keys()))\n",
    "\n",
    "# Download the \"word2vec-google-news-300\" embeddings\n",
    "model = gensim.downloader.load('word2vec-google-news-300')\n",
    "model.wv.vectors.shape"
   ]
  },
  {
   "cell_type": "markdown",
   "metadata": {},
   "source": [
    "# dataload"
   ]
  },
  {
   "cell_type": "code",
   "execution_count": 85,
   "metadata": {},
   "outputs": [],
   "source": [
    "df.to_pickle('emoji_w2v.pkl')"
   ]
  },
  {
   "cell_type": "code",
   "execution_count": 89,
   "metadata": {},
   "outputs": [
    {
     "data": {
      "text/html": [
       "<div>\n",
       "<style scoped>\n",
       "    .dataframe tbody tr th:only-of-type {\n",
       "        vertical-align: middle;\n",
       "    }\n",
       "\n",
       "    .dataframe tbody tr th {\n",
       "        vertical-align: top;\n",
       "    }\n",
       "\n",
       "    .dataframe thead th {\n",
       "        text-align: right;\n",
       "    }\n",
       "</style>\n",
       "<table border=\"1\" class=\"dataframe\">\n",
       "  <thead>\n",
       "    <tr style=\"text-align: right;\">\n",
       "      <th></th>\n",
       "      <th>emoji</th>\n",
       "      <th>text</th>\n",
       "      <th>text_pre</th>\n",
       "      <th>w2v_self</th>\n",
       "      <th>d2v_self</th>\n",
       "      <th>bert_token_enc</th>\n",
       "    </tr>\n",
       "  </thead>\n",
       "  <tbody>\n",
       "    <tr>\n",
       "      <th>0</th>\n",
       "      <td>😀</td>\n",
       "      <td>\"Grinning Face\"</td>\n",
       "      <td>grinning face</td>\n",
       "      <td>[-0.00094045, -0.0006872087, -6.5182445e-05, 0...</td>\n",
       "      <td>[-0.0009106955, -0.00066791294, -5.793549e-05,...</td>\n",
       "      <td>[-0.74729633, -0.087494224, 0.63072586, 0.4789...</td>\n",
       "    </tr>\n",
       "    <tr>\n",
       "      <th>1</th>\n",
       "      <td>😁</td>\n",
       "      <td>\"Beaming Face With Smiling Eyes\"</td>\n",
       "      <td>beaming face with smiling eyes</td>\n",
       "      <td>[-0.0006431065, 9.477781e-05, 0.00034368213, -...</td>\n",
       "      <td>[-0.0005997297, 0.0001040432, 0.00033933454, -...</td>\n",
       "      <td>[-0.88575333, -0.1869557, -0.3815595, 0.729069...</td>\n",
       "    </tr>\n",
       "    <tr>\n",
       "      <th>2</th>\n",
       "      <td>😂</td>\n",
       "      <td>\"Face With Tears of Joy\"</td>\n",
       "      <td>face with tears of joy</td>\n",
       "      <td>[0.00019971476, -0.0004615941, -0.00011864512,...</td>\n",
       "      <td>[0.00023946613, -0.00043663365, -0.00010684356...</td>\n",
       "      <td>[-0.7234129, -0.1108921, 0.44371545, 0.5689685...</td>\n",
       "    </tr>\n",
       "    <tr>\n",
       "      <th>3</th>\n",
       "      <td>🤣</td>\n",
       "      <td>\"Rolling on the Floor Laughing\"</td>\n",
       "      <td>rolling on the floor laughing</td>\n",
       "      <td>[0.00030254797, -0.00021019144, -0.00015853446...</td>\n",
       "      <td>[0.0003178202, -0.00019955196, -0.00015189362,...</td>\n",
       "      <td>[-0.724951, -0.08921164, 0.52543116, 0.5329707...</td>\n",
       "    </tr>\n",
       "    <tr>\n",
       "      <th>4</th>\n",
       "      <td>😃</td>\n",
       "      <td>\"Grinning Face With Big Eyes\"</td>\n",
       "      <td>grinning face with big eyes</td>\n",
       "      <td>[-0.0003975432, -0.0003180963, 0.00035707135, ...</td>\n",
       "      <td>[-0.00035680766, -0.000299274, 0.00035843992, ...</td>\n",
       "      <td>[-0.92428726, -0.19967505, -0.5458071, 0.81853...</td>\n",
       "    </tr>\n",
       "    <tr>\n",
       "      <th>...</th>\n",
       "      <td>...</td>\n",
       "      <td>...</td>\n",
       "      <td>...</td>\n",
       "      <td>...</td>\n",
       "      <td>...</td>\n",
       "      <td>...</td>\n",
       "    </tr>\n",
       "    <tr>\n",
       "      <th>1506</th>\n",
       "      <td>🇿🇲</td>\n",
       "      <td>\"Zambia\"</td>\n",
       "      <td>zambia</td>\n",
       "      <td>[-0.0005835779, -0.00027042735, 0.00063267356,...</td>\n",
       "      <td>[-0.0005835779, -0.00027042735, 0.00063267356,...</td>\n",
       "      <td>[-0.70810485, -0.16304275, 0.56932163, 0.47378...</td>\n",
       "    </tr>\n",
       "    <tr>\n",
       "      <th>1507</th>\n",
       "      <td>🇿🇼</td>\n",
       "      <td>\"Zimbabwe\"</td>\n",
       "      <td>zimbabwe</td>\n",
       "      <td>[0.0011473428, -0.00047775332, -0.0015731562, ...</td>\n",
       "      <td>[0.0011473428, -0.00047775332, -0.0015731562, ...</td>\n",
       "      <td>[-0.7186055, -0.17344351, 0.5435216, 0.517652,...</td>\n",
       "    </tr>\n",
       "    <tr>\n",
       "      <th>1508</th>\n",
       "      <td>🏴󠁧󠁢󠁥󠁮󠁧󠁿</td>\n",
       "      <td>\"England\"</td>\n",
       "      <td>england</td>\n",
       "      <td>[-0.0006612721, -0.0008092607, 0.0013948333, 0...</td>\n",
       "      <td>[-0.0006612721, -0.0008092607, 0.0013948333, 0...</td>\n",
       "      <td>[-0.7511741, -0.16930981, 0.65287125, 0.499871...</td>\n",
       "    </tr>\n",
       "    <tr>\n",
       "      <th>1509</th>\n",
       "      <td>🏴󠁧󠁢󠁳󠁣󠁴󠁿</td>\n",
       "      <td>\"Scotland\"</td>\n",
       "      <td>scotland</td>\n",
       "      <td>[-0.00060080085, 0.0012818298, -0.00058121135,...</td>\n",
       "      <td>[-0.00060080085, 0.0012818298, -0.00058121135,...</td>\n",
       "      <td>[-0.70290583, -0.12438569, 0.6124369, 0.439223...</td>\n",
       "    </tr>\n",
       "    <tr>\n",
       "      <th>1510</th>\n",
       "      <td>🏴󠁧󠁢󠁷󠁬󠁳󠁿</td>\n",
       "      <td>\"Wales\"</td>\n",
       "      <td>wales</td>\n",
       "      <td>[0.0014205201, 0.0007940159, -0.00042427817, 0...</td>\n",
       "      <td>[0.0014205201, 0.0007940159, -0.00042427817, 0...</td>\n",
       "      <td>[-0.7406602, -0.16754808, 0.5462501, 0.4918237...</td>\n",
       "    </tr>\n",
       "  </tbody>\n",
       "</table>\n",
       "<p>1511 rows × 6 columns</p>\n",
       "</div>"
      ],
      "text/plain": [
       "        emoji                               text  \\\n",
       "0           😀                    \"Grinning Face\"   \n",
       "1           😁   \"Beaming Face With Smiling Eyes\"   \n",
       "2           😂           \"Face With Tears of Joy\"   \n",
       "3           🤣    \"Rolling on the Floor Laughing\"   \n",
       "4           😃      \"Grinning Face With Big Eyes\"   \n",
       "...       ...                                ...   \n",
       "1506       🇿🇲                           \"Zambia\"   \n",
       "1507       🇿🇼                         \"Zimbabwe\"   \n",
       "1508  🏴󠁧󠁢󠁥󠁮󠁧󠁿                          \"England\"   \n",
       "1509  🏴󠁧󠁢󠁳󠁣󠁴󠁿                         \"Scotland\"   \n",
       "1510  🏴󠁧󠁢󠁷󠁬󠁳󠁿                            \"Wales\"   \n",
       "\n",
       "                             text_pre  \\\n",
       "0                       grinning face   \n",
       "1      beaming face with smiling eyes   \n",
       "2              face with tears of joy   \n",
       "3       rolling on the floor laughing   \n",
       "4         grinning face with big eyes   \n",
       "...                               ...   \n",
       "1506                           zambia   \n",
       "1507                         zimbabwe   \n",
       "1508                          england   \n",
       "1509                         scotland   \n",
       "1510                            wales   \n",
       "\n",
       "                                               w2v_self  \\\n",
       "0     [-0.00094045, -0.0006872087, -6.5182445e-05, 0...   \n",
       "1     [-0.0006431065, 9.477781e-05, 0.00034368213, -...   \n",
       "2     [0.00019971476, -0.0004615941, -0.00011864512,...   \n",
       "3     [0.00030254797, -0.00021019144, -0.00015853446...   \n",
       "4     [-0.0003975432, -0.0003180963, 0.00035707135, ...   \n",
       "...                                                 ...   \n",
       "1506  [-0.0005835779, -0.00027042735, 0.00063267356,...   \n",
       "1507  [0.0011473428, -0.00047775332, -0.0015731562, ...   \n",
       "1508  [-0.0006612721, -0.0008092607, 0.0013948333, 0...   \n",
       "1509  [-0.00060080085, 0.0012818298, -0.00058121135,...   \n",
       "1510  [0.0014205201, 0.0007940159, -0.00042427817, 0...   \n",
       "\n",
       "                                               d2v_self  \\\n",
       "0     [-0.0009106955, -0.00066791294, -5.793549e-05,...   \n",
       "1     [-0.0005997297, 0.0001040432, 0.00033933454, -...   \n",
       "2     [0.00023946613, -0.00043663365, -0.00010684356...   \n",
       "3     [0.0003178202, -0.00019955196, -0.00015189362,...   \n",
       "4     [-0.00035680766, -0.000299274, 0.00035843992, ...   \n",
       "...                                                 ...   \n",
       "1506  [-0.0005835779, -0.00027042735, 0.00063267356,...   \n",
       "1507  [0.0011473428, -0.00047775332, -0.0015731562, ...   \n",
       "1508  [-0.0006612721, -0.0008092607, 0.0013948333, 0...   \n",
       "1509  [-0.00060080085, 0.0012818298, -0.00058121135,...   \n",
       "1510  [0.0014205201, 0.0007940159, -0.00042427817, 0...   \n",
       "\n",
       "                                         bert_token_enc  \n",
       "0     [-0.74729633, -0.087494224, 0.63072586, 0.4789...  \n",
       "1     [-0.88575333, -0.1869557, -0.3815595, 0.729069...  \n",
       "2     [-0.7234129, -0.1108921, 0.44371545, 0.5689685...  \n",
       "3     [-0.724951, -0.08921164, 0.52543116, 0.5329707...  \n",
       "4     [-0.92428726, -0.19967505, -0.5458071, 0.81853...  \n",
       "...                                                 ...  \n",
       "1506  [-0.70810485, -0.16304275, 0.56932163, 0.47378...  \n",
       "1507  [-0.7186055, -0.17344351, 0.5435216, 0.517652,...  \n",
       "1508  [-0.7511741, -0.16930981, 0.65287125, 0.499871...  \n",
       "1509  [-0.70290583, -0.12438569, 0.6124369, 0.439223...  \n",
       "1510  [-0.7406602, -0.16754808, 0.5462501, 0.4918237...  \n",
       "\n",
       "[1511 rows x 6 columns]"
      ]
     },
     "execution_count": 89,
     "metadata": {},
     "output_type": "execute_result"
    }
   ],
   "source": [
    "df = pd.read_pickle('emoji_w2v.pkl')\n",
    "df"
   ]
  },
  {
   "cell_type": "code",
   "execution_count": null,
   "metadata": {},
   "outputs": [],
   "source": []
  }
 ],
 "metadata": {
  "kernelspec": {
   "display_name": "daeun_py37",
   "language": "python",
   "name": "daeun_py37"
  },
  "language_info": {
   "codemirror_mode": {
    "name": "ipython",
    "version": 3
   },
   "file_extension": ".py",
   "mimetype": "text/x-python",
   "name": "python",
   "nbconvert_exporter": "python",
   "pygments_lexer": "ipython3",
   "version": "3.7.4"
  }
 },
 "nbformat": 4,
 "nbformat_minor": 4
}
